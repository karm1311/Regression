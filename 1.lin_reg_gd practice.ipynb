{
 "cells": [
  {
   "cell_type": "code",
   "execution_count": null,
   "metadata": {},
   "outputs": [],
   "source": []
  },
  {
   "cell_type": "markdown",
   "metadata": {},
   "source": [
    "#  <center>![WhatsApp%20Image%202017-09-25%20at%2014.32.13.jpeg](attachment:WhatsApp%20Image%202017-09-25%20at%2014.32.13.jpeg)</center>"
   ]
  },
  {
   "cell_type": "markdown",
   "metadata": {},
   "source": [
    "# <h1 align=\"center\">**Linear Regression** </h1>"
   ]
  },
  {
   "cell_type": "markdown",
   "metadata": {},
   "source": [
    "# # Program so far"
   ]
  },
  {
   "cell_type": "markdown",
   "metadata": {},
   "source": [
    "# ***"
   ]
  },
  {
   "cell_type": "markdown",
   "metadata": {},
   "source": [
    "#  Whirlwind introduction to Python - sharpen your grey cell and pull some cool tricks off your sleve after all your are a pythonista - Albiet a budding one :) \n"
   ]
  },
  {
   "cell_type": "markdown",
   "metadata": {},
   "source": [
    "# * Introduction to Machine Learning - You can tell a classification task from a clustering \n"
   ]
  },
  {
   "cell_type": "markdown",
   "metadata": {},
   "source": [
    "# * Basic Probability & Descriptive Stats - You are at peace with Statistics (Hopefully !)\n"
   ]
  },
  {
   "cell_type": "markdown",
   "metadata": {},
   "source": [
    "# * Steps involved in solving an end-to-end ML problem - starting it.\n"
   ]
  },
  {
   "cell_type": "code",
   "execution_count": null,
   "metadata": {},
   "outputs": [],
   "source": []
  },
  {
   "cell_type": "markdown",
   "metadata": {},
   "source": [
    " \n",
    "#  \n",
    "#  \n",
    "\n",
    "# # Agenda for the Day\n",
    "# ***\n",
    "# * Understand the intuition behind Linear Regression\n",
    "# * Understand the Linear Regression Cost Function\n",
    "# * Understand the Linear Regression using Gradient Descent Algorithm\n",
    "# * Introduction to Linear Regression in sklearn\n",
    "# * Learn about the assumptions in Linear Regression Algorithm\n",
    "# * Evaluating Metrics for Regression\n",
    "\n"
   ]
  },
  {
   "cell_type": "markdown",
   "metadata": {},
   "source": [
    "# We have tried understanding and predicting the price of a house in NY using various statistical techniques so far.\n",
    "# \n",
    "# \n",
    "# **These included both descriptive and univariate inferential statistics methodologies.**\n",
    "# "
   ]
  },
  {
   "cell_type": "markdown",
   "metadata": {},
   "source": [
    "# <div class=\"alert alert-block alert-success\">Now let's take a step forward and make our first prediction!</div>\n"
   ]
  },
  {
   "cell_type": "markdown",
   "metadata": {},
   "source": [
    "# In order to learn to make predictions, it is important to learn what is a Predictor.\n"
   ]
  },
  {
   "cell_type": "markdown",
   "metadata": {},
   "source": [
    "#  So what is a predictor? (1/4)\n",
    "\n",
    "# How could you say if a person went to tier 1, 2 or 3 college in America?\n"
   ]
  },
  {
   "cell_type": "markdown",
   "metadata": {},
   "source": [
    "# Simple, if someone is determined to pursue a Bachelor's degree, Higher SAT scores (or GPA) leads to more college admissions! \n",
    "\n",
    "# The graph below depicts Cornell's acceptance rate by SAT scores and many Universities show similar trends\n",
    "\n",
    "# \n",
    "# \n",
    "# <center><img src=\"attachment:sats_2014_graph.gif\" alt=\"Drawing\" style=\"width: 700px;\"/></center>\n",
    "\n",
    "#  What is a predictor? (2/4)\n",
    "\n",
    "# We also know that if we keep on drinking more and more beers, our Blood-Alcohol Content(BAC) rises with it. \n",
    "# \n",
    "# The graph below depicts just that, know your limits! \n",
    "\n",
    "# <center><img src=\"attachment:BAC.png\" style=\"width: 1000px;\"/></center>\n",
    "\n",
    "# What is a predictor? (3/4)\n",
    "\n",
    "# Think about the relationship between the Circumference of a Cirle and it's diameter. What happens to the former whilst the latter increases? \n",
    "\n",
    "# What is a predictor? (4/4)\n",
    "\n",
    "# The moral of the story is there are factors that influence the outcome of the variable of our interest. \n",
    "\n",
    "# * SAT score --> University acceptance rate\n",
    "# * Number of beers --> Body alcohol level\n",
    "# * Diameter --> Circumference\n",
    "# \n",
    "# These variables are known as **predictors** and the variable of interest is known as the **target variable**.\n",
    "\n",
    "#  So, how much would a house actually cost?\n",
    "\n",
    "# Let's resume to our discussion on prices of house in NY.\n",
    "# \n",
    "# Here, our target variable would be ____________\n",
    "# \n",
    "#  What could be the predictors for our target variable? **\n",
    "\n",
    "# Let's roll with area of the house\n",
    "# \n",
    "# We would want to see if the price of a house is really affected by the area of the house\n",
    " \n",
    "# Intuitively, we all know the outcome but let's try to understand why we're doing this\n",
    "\n",
    "# Let's have a look at the data\n",
    "\n",
    "# - Now, let's have a look at the data \n",
    "#  - Every row displays the Price and Area of each house\n",
    "\n"
   ]
  },
  {
   "cell_type": "code",
   "execution_count": 20,
   "metadata": {},
   "outputs": [
    {
     "data": {
      "text/html": [
       "<div>\n",
       "<style scoped>\n",
       "    .dataframe tbody tr th:only-of-type {\n",
       "        vertical-align: middle;\n",
       "    }\n",
       "\n",
       "    .dataframe tbody tr th {\n",
       "        vertical-align: top;\n",
       "    }\n",
       "\n",
       "    .dataframe thead th {\n",
       "        text-align: right;\n",
       "    }\n",
       "</style>\n",
       "<table border=\"1\" class=\"dataframe\">\n",
       "  <thead>\n",
       "    <tr style=\"text-align: right;\">\n",
       "      <th></th>\n",
       "      <th>LotArea</th>\n",
       "      <th>SalePrice</th>\n",
       "    </tr>\n",
       "  </thead>\n",
       "  <tbody>\n",
       "    <tr>\n",
       "      <th>0</th>\n",
       "      <td>8450</td>\n",
       "      <td>208500</td>\n",
       "    </tr>\n",
       "    <tr>\n",
       "      <th>1</th>\n",
       "      <td>9600</td>\n",
       "      <td>181500</td>\n",
       "    </tr>\n",
       "    <tr>\n",
       "      <th>2</th>\n",
       "      <td>11250</td>\n",
       "      <td>223500</td>\n",
       "    </tr>\n",
       "    <tr>\n",
       "      <th>3</th>\n",
       "      <td>9550</td>\n",
       "      <td>140000</td>\n",
       "    </tr>\n",
       "    <tr>\n",
       "      <th>4</th>\n",
       "      <td>14260</td>\n",
       "      <td>250000</td>\n",
       "    </tr>\n",
       "  </tbody>\n",
       "</table>\n",
       "</div>"
      ],
      "text/plain": [
       "   LotArea  SalePrice\n",
       "0     8450     208500\n",
       "1     9600     181500\n",
       "2    11250     223500\n",
       "3     9550     140000\n",
       "4    14260     250000"
      ]
     },
     "execution_count": 20,
     "metadata": {},
     "output_type": "execute_result"
    }
   ],
   "source": [
    "import pandas as pd\n",
    "import numpy as np\n",
    "data = pd.read_csv(r\"C:\\Users\\KARM\\Desktop\\python\\Data Set\\house_prices.csv\")\n",
    "data.head()"
   ]
  },
  {
   "cell_type": "markdown",
   "metadata": {},
   "source": [
    "\n",
    "# ## Plotting our data\n",
    "# ***\n",
    "#  - Getting some motivation from Exploratory Data Analysis, what's intriguing is how this data will look when we plot it \n",
    "#  - Starting simple, let's just check how our data looks like in a scatter plot where: \n",
    "#    - Area is taken along the X-axis\n",
    "#    - Price is taken along the Y-axis"
   ]
  },
  {
   "cell_type": "code",
   "execution_count": 21,
   "metadata": {},
   "outputs": [
    {
     "data": {
      "image/png": "[encoded data removed]",
      "text/plain": [
       "<Figure size 432x288 with 1 Axes>"
      ]
     },
     "metadata": {},
     "output_type": "display_data"
    }
   ],
   "source": [
    "import matplotlib.pyplot as plt\n",
    "plt.scatter(data.LotArea, data.SalePrice)\n",
    "plt.title('NYC House pricing')\n",
    "plt.xlabel('Area')\n",
    "plt.ylabel('Price')\n",
    "plt.show()"
   ]
  },
  {
   "cell_type": "markdown",
   "metadata": {},
   "source": [
    "#   Thinking out loud\n",
    "#  \n",
    "#   - By seeing our data above, we can see, an upward trend in the House Prices as the Area of the house increases\n",
    "#   - We can say that as the Area of a house increases, it's price increases too.\n",
    "#   - Now, let's say we want to predict the price of the house whose area is 14000 sq feet, how should we go about it?\n",
    "\n",
    "# ## Fitting a Line On the Scatter Plot\n",
    "# ***\n",
    "#  - Intuitively, we can just draw a straight line that would \"capture\" the trend of area and house price, and predict house price from that line.\n",
    "# \n",
    "# <div class=\"alert alert-block alert-success\">**Let's try and fit a line through all these points!**</div>\n",
    "\n",
    "#  What's your prediction?\n",
    "\n",
    "# ## Which line to choose?\n",
    "# \n",
    "# As you saw, there are many lines which would seem to be fitting reasonably well.\n",
    "# \n",
    "# \n",
    "# consider following lines,\n",
    "# \n",
    "# \n",
    "# $$ price = 30000 + 15∗area\\\\\n",
    "# price=10000 + 17 ∗ area\\\\\n",
    "# price= 50000 + 12 ∗ area\n",
    "# $$\n",
    "# \n",
    "# <div class=\"alert alert-block alert-success\">**Let's try and plot them and see if they are a good fit**</div>\n"
   ]
  },
  {
   "cell_type": "code",
   "execution_count": 22,
   "metadata": {},
   "outputs": [
    {
     "data": {
      "image/png": "[encoded data removed]",
      "text/plain": [
       "<Figure size 432x288 with 1 Axes>"
      ]
     },
     "metadata": {},
     "output_type": "display_data"
    }
   ],
   "source": [
    "import matplotlib.pyplot as plt\n",
    "plt.scatter(data.LotArea, data.SalePrice)\n",
    "plt.plot(data.LotArea, 30000 + 15*data.LotArea, \"r-\")\n",
    "plt.title('NYC House pricing')\n",
    "plt.xlabel('Area')\n",
    "plt.ylabel('Price')\n",
    "plt.show()\n"
   ]
  },
  {
   "cell_type": "markdown",
   "metadata": {},
   "source": [
    "\n",
    "# ## In Class Activity :\n",
    "# ***\n",
    "# Plot a line fitting our 'Sales Price' data for $$ price=10000 + 17 ∗ area $$\n"
   ]
  },
  {
   "cell_type": "markdown",
   "metadata": {},
   "source": [
    "# plot \"price=10000 + 17 ∗ area\" line"
   ]
  },
  {
   "cell_type": "code",
   "execution_count": 23,
   "metadata": {},
   "outputs": [
    {
     "data": {
      "image/png": "[encoded data removed]",
      "text/plain": [
       "<Figure size 432x288 with 1 Axes>"
      ]
     },
     "metadata": {},
     "output_type": "display_data"
    }
   ],
   "source": [
    "\n",
    "plt.scatter(data.LotArea, data.SalePrice)\n",
    "plt.plot(data.LotArea, 10000 + 17*data.LotArea,'g-' )\n",
    "# your code here\n",
    "\n",
    "\n",
    "plt.title('NYC House pricing')\n",
    "plt.xlabel('Area')\n",
    "plt.ylabel('Price')\n",
    "plt.show()\n",
    "\n"
   ]
  },
  {
   "cell_type": "markdown",
   "metadata": {},
   "source": [
    "# ## In Class Activity :\n",
    "# ***\n",
    "# Plot a line fitting our 'Sales Price' data for $$ price= 50000 + 12 ∗ area $$\n",
    "\n",
    "# In[34]:\n",
    "\n",
    "\n",
    "# plot \"price= 50000 + 12 ∗ area\" line\n"
   ]
  },
  {
   "cell_type": "code",
   "execution_count": 24,
   "metadata": {},
   "outputs": [
    {
     "data": {
      "image/png": "[encoded data removed]",
      "text/plain": [
       "<Figure size 432x288 with 1 Axes>"
      ]
     },
     "metadata": {},
     "output_type": "display_data"
    }
   ],
   "source": [
    "plt.scatter(data.LotArea, data.SalePrice)\n",
    "\n",
    "# Your code here\n",
    "plt.plot(data.LotArea, 30000 + 15*data.LotArea,'r-' )\n",
    "plt.plot(data.LotArea, 10000 + 17*data.LotArea,'g-' )\n",
    "plt.plot(data.LotArea, 50000 + 12*data.LotArea,'y-' )\n",
    "\n",
    "plt.title('NYC House pricing')\n",
    "plt.xlabel('Area')\n",
    "plt.ylabel('Price')\n",
    "plt.show()\n"
   ]
  },
  {
   "cell_type": "markdown",
   "metadata": {},
   "source": [
    "\n",
    "# ## Which line to choose?\n",
    "# ***\n",
    "# Seems like all of them are a good fit for the data. Let's plot of them in a single plot and see how that pans out.\n"
   ]
  },
  {
   "cell_type": "code",
   "execution_count": 25,
   "metadata": {},
   "outputs": [
    {
     "data": {
      "image/png": "[encoded data removed]",
      "text/plain": [
       "<Figure size 432x288 with 1 Axes>"
      ]
     },
     "metadata": {},
     "output_type": "display_data"
    }
   ],
   "source": [
    "import matplotlib.pyplot as plt\n",
    "plt.scatter(data.LotArea, data.SalePrice)\n",
    "plt.plot(data.LotArea, 30000 + 15*data.LotArea, \"r-\")\n",
    "plt.plot(data.LotArea, 10000 + 17*data.LotArea, \"k-\")\n",
    "plt.plot(data.LotArea, 50000 + 12*data.LotArea, \"y-\")\n",
    "plt.title('NYC House pricing')\n",
    "plt.xlabel('Area')\n",
    "plt.ylabel('Price')\n",
    "plt.show()\n",
    "\n"
   ]
  },
  {
   "cell_type": "markdown",
   "metadata": {},
   "source": [
    "\n",
    "# ## Which line to choose?\n",
    "# ***\n",
    "# As you can see although all three seemed like a good fit, they are quite different from each other. In result, they will result in very different predictions.\n",
    "# \n",
    "# For example, for house area = 9600, the predictions for red, black and yellow lines are\n"
   ]
  },
  {
   "cell_type": "code",
   "execution_count": 26,
   "metadata": {},
   "outputs": [
    {
     "name": "stdout",
     "output_type": "stream",
     "text": [
      "red line: 174000\n"
     ]
    }
   ],
   "source": [
    "\n",
    "# red line: \n",
    "print(\"red line:\", 30000 + 15*9600)"
   ]
  },
  {
   "cell_type": "code",
   "execution_count": 27,
   "metadata": {},
   "outputs": [
    {
     "name": "stdout",
     "output_type": "stream",
     "text": [
      "black line: 173200\n"
     ]
    }
   ],
   "source": [
    "# black line: \n",
    "print(\"black line:\", 10000 + 17*9600)"
   ]
  },
  {
   "cell_type": "code",
   "execution_count": 28,
   "metadata": {},
   "outputs": [
    {
     "name": "stdout",
     "output_type": "stream",
     "text": [
      "yellow line: 165200\n"
     ]
    }
   ],
   "source": [
    "# yellow line: \n",
    "print(\"yellow line:\", 50000 + 12*9600)"
   ]
  },
  {
   "cell_type": "markdown",
   "metadata": {},
   "source": [
    "\n",
    "\n",
    "# black line:\n",
    "\n",
    "# yellow line:\n",
    "\n",
    "\n",
    "# <img src=\"../images/icon/Concept-Alert.png\" alt=\"Concept-Alert\" style=\"width: 100px;float:left; margin-right:15px\"/>\n",
    "# ## Which line to choose?\n",
    "# ***\n",
    "# As you can see the price predictions are varying from each other significantly. So how do we choose the best line?\n",
    "# \n",
    "# Well, we can define a function that measures how near or far the prediction is from the actual value.\n",
    "# \n",
    "# If we cosider the actual and predicted values as points in space, we can just calculate the distance between these two points!\n",
    "\n",
    "# This function is defined as:\n",
    "# \n",
    "# $$(Y_{pred}-Y_{actual})^2$$\n",
    "# \n",
    "# The farther the points, more the the distance and more the cost!\n",
    "# \n",
    "# \n",
    "# It is known as the **cost function** and since this function captures square of distance, it is known as the **least-squares cost function**. \n",
    "# \n",
    "# \n",
    "# The idea is to **minimize** the cost function to get the best fitting line.\n",
    "\n",
    "# ## Introducing Linear Regression:\n",
    "# ***\n",
    "# \n",
    "# Linear regression using least squared cost function is known as **Ordinary Least Squared Linear Regression**. \n",
    "# \n",
    "# This allows us to analyze the relationship between two quantitative variables and derive some meaningful insights\n",
    "\n",
    "# ## KYLR (Know your Linear Regression)!\n",
    "# ***\n",
    "# Great! now before moving forward, let's try to put the discussion we have had so far into a more formal context. Let's start by learning some terminologies.\n",
    "#  \n",
    "#  - Here, we're trying to Predict the Price of the House using the value of it's Area \n",
    "#  - Thus, Area is the **Independent Variable** \n",
    "#  - Price is the **Dependent Variable**, since the value of price is dependent on the value of area\n",
    "#  \n",
    "# ***\n",
    "# ![linear_regression_4.jpg](attachment:linear_regression_4.jpg)\n",
    "#  \n",
    "\n",
    "# ## KYLR (Know your Linear Regression)!\n",
    "# ***\n",
    "# \n",
    "# - Since we're using **only 1** predictor (Area) to predict the Price, this method is also called **Univariate Regression**\n",
    "# - But more often than not, in real problems, we utilize 2 or more predictors. Such a regression is called **Muiltivariate Regression**. More on this later! \n",
    "\n",
    "# ## KYLR (Know your Linear Regression)!\n",
    "# ***\n",
    "# \n",
    "# We will start to use following notations as it helps us represent the problem in a concise way.\n",
    "# \n",
    "# * $X^{_i}$  denotes the predictor(s) - in our case it's the Area\n",
    "# * $y^{(i)}$  denotes the response variable (Price)\n",
    "\n",
    "# ## KYLR (Know your Linear Regression)!\n",
    "# ***\n",
    "# A pair ($x^{(i)}$ ,  $y^{(i)}$) is called a training example.\n",
    "# \n",
    "# \n",
    "# For example, 2nd training example, ( x(2)  ,  y(2) ) corresponds to  ( _._._._ , _._._._ )  (Fill in the blanks above by having a look at your data!)\n",
    "# \n",
    "\n",
    "# ## KYLR (Know your Linear Regression)!\n",
    "# ***\n",
    "# Let's consider that any given dataset contains **\"m\"** training examples or Observations\n",
    "# \n",
    "# { $x^{(i)}$  , $y^{(i)}$ ; i = 1, . . . , m} — is called a **training set**.\n",
    "# \n",
    "# In this example, m = 1460 (Nos. of row)\n",
    "\n",
    "# ## Cost Function:\n",
    "# ***\n",
    "# Ok, so now that these are out of our way, let's get started with the real stuff.\n",
    "# \n",
    "# - An ideal case would be when all the individual points in the scatter plot fall directly on the line OR a straight line passes through all the points in our plot, but in reality, **that rarely happens**\n",
    "#   \n",
    "# - We can see that for a Particular Area, there is a difference between Price given by our data point (which is the correct observation) and the line (predicted observation or **Fitted Value**)\n",
    "# \n",
    "# - So how can we Mathematically capture such differences and represent it? \n",
    "\n",
    "# ### Cost Function\n",
    "# ***\n",
    "# We choose  θs so that predicted values are as close to the actual values as possible\n",
    "# \n",
    "# We can define a mathematical function to capture the difference between the predicted and actual values.\n",
    "# \n",
    "# This function is known as the cost function and denoted by $J(θ)$\n",
    "\n",
    "# ### Cost function:\n",
    "# ***\n",
    "# \n",
    "# $$\\frac{1}{2m} \\sum _{i=1}^m (h_\\theta(X^{(i)})-Y^{(i)})^2$$\n",
    "# \n",
    "# * $\\theta$ is the coefficient of 'x' for our linear model intuitively. It measures how much of a unit change of 'x' will have an effect on 'y'\n",
    "# - Here, we need to figure out the values of intercept and coefficients so that  the cost function is minimized.\n",
    "# - We do this by a very important and widely used Algorithm: **Gradient Descent**\n",
    "\n",
    "# <img src=\"../images/icon/Concept-Alert.png\" alt=\"Concept-Alert\" style=\"width: 100px;float:left; margin-right:15px\"/>\n",
    "# \n",
    "#  #### [Anscombe's Quartet](http://students.brown.edu/seeing-theory/regression/index.html#first)\n",
    "#  #### [What is Anscombe's Quartet](https://en.wikipedia.org/wiki/Anscombe%27s_quartet)\n",
    "#  ***\n",
    "\n",
    "# In[7]:\n",
    "\n"
   ]
  },
  {
   "cell_type": "code",
   "execution_count": 29,
   "metadata": {},
   "outputs": [
    {
     "data": {
      "text/html": [
       "<iframe width=\"560\" height=\"315\" src=\"https://www.youtube.com/embed/BR9h47Jtqyw?start=188\" frameborder=\"0\" allowfullscreen></iframe>"
      ],
      "text/plain": [
       "<IPython.core.display.HTML object>"
      ]
     },
     "execution_count": 29,
     "metadata": {},
     "output_type": "execute_result"
    }
   ],
   "source": [
    "\n",
    "from IPython.display import HTML\n",
    "HTML('<iframe width=\"560\" height=\"315\" src=\"https://www.youtube.com/embed/BR9h47Jtqyw?start=188\" frameborder=\"0\" allowfullscreen></iframe>')\n"
   ]
  },
  {
   "cell_type": "markdown",
   "metadata": {},
   "source": [
    "# ### Gradient Descent Intuition\n",
    "# ***\n",
    "#  - So, we want to choose θ so as to minimize J(θ)\n",
    "#  - Gradient Descent is a search Algorithm that starts with some “initial guess” for θ, and that repeatedly changes θ to make J(θ) smaller, until hopefully we converge to a value of θ that minimizes J(θ)\n",
    "# \n",
    "\n",
    "#  - It repeatedly performs an update on θ as shown: \n",
    "#  \n",
    "#     ![cost2.png](attachment:cost2.png)\n",
    "#     \n",
    "#     \n",
    "# \n",
    "\n",
    "# ### Gradient Descent Intuition\n",
    "# ***\n",
    "#   - Here α is called the learning rate. This is a very natural algorithm that repeatedly takes a step in the direction of steepest decrease of J\n",
    "\n",
    "# <img src=\"../images/icon/Maths-Insight.png\" alt=\"Math-Insight\" style=\"width: 100px;float:left; margin-right:15px\"/>\n",
    "# <br />\n",
    "# ### Gradient Descent Optimization (Optional) \n",
    "# ***\n",
    "# <br />\n",
    "# Gradient in the previous  eq.(1) can be simplified as following\n",
    "# \n",
    "# ![GD2.png](attachment:GD2.png)\n",
    "# \n",
    "\n",
    "# ### Gradient Descent Optimization (Optional) \n",
    "# ***\n",
    "# Hence, for a single training example, eq.(1) becomes\n",
    "# \n",
    "# ![GD3.png](attachment:GD3.png)\n",
    "# \n",
    "\n",
    "# For the training set, eq.(1) becomes\n",
    "# \n",
    "# ![GD4.png](attachment:GD4.png)\n",
    "# \n",
    "# Here,  xj is the corresponding predictor for  θj.\n",
    "# \n",
    "# For example, predictor corresponding to  θ1  and 2nd training example,  x(2)1  is 24.\n",
    "# \n",
    "# Value for all  x(i)0  is equal to 1.\n"
   ]
  },
  {
   "cell_type": "code",
   "execution_count": 30,
   "metadata": {},
   "outputs": [
    {
     "data": {
      "text/html": [
       "<iframe width=\"560\" height=\"315\" src=\"https://www.youtube.com/embed/WnqQrPNYz5Q?start=10&end=155\" frameborder=\"0\" allowfullscreen></iframe>"
      ],
      "text/plain": [
       "<IPython.core.display.HTML object>"
      ]
     },
     "execution_count": 30,
     "metadata": {},
     "output_type": "execute_result"
    }
   ],
   "source": [
    "from IPython.display import HTML\n",
    "HTML('<iframe width=\"560\" height=\"315\" src=\"https://www.youtube.com/embed/WnqQrPNYz5Q?start=10&end=155\" frameborder=\"0\" allowfullscreen></iframe>')\n",
    "\n"
   ]
  },
  {
   "cell_type": "markdown",
   "metadata": {},
   "source": [
    "# ## Linear Regression in sklearn\n",
    "# ***\n",
    "# sklearn provides an easy api to fit a linear regression and predict values using linear regression\n",
    "# \n",
    "# Let's see how it works\n",
    "\n",
    "# ## Linear Regression is not always useful\n",
    "# ![linear_regression_2.jpg.png](attachment:linear_regression_2.jpg.png)\n"
   ]
  },
  {
   "cell_type": "code",
   "execution_count": 36,
   "metadata": {},
   "outputs": [
    {
     "data": {
      "text/plain": [
       "(1326,)"
      ]
     },
     "execution_count": 36,
     "metadata": {},
     "output_type": "execute_result"
    }
   ],
   "source": [
    "\n",
    "y.shape"
   ]
  },
  {
   "cell_type": "code",
   "execution_count": 37,
   "metadata": {},
   "outputs": [],
   "source": [
    "\n",
    "\n",
    "X = data.LotArea[:,np.newaxis]  # Reshape\n",
    "y = data.SalePrice\n"
   ]
  },
  {
   "cell_type": "code",
   "execution_count": 38,
   "metadata": {},
   "outputs": [
    {
     "data": {
      "text/plain": [
       "LinearRegression(copy_X=True, fit_intercept=True, n_jobs=1, normalize=False)"
      ]
     },
     "execution_count": 38,
     "metadata": {},
     "output_type": "execute_result"
    }
   ],
   "source": [
    "\n",
    "# Fitting Simple Linear Regression to the Training set\n",
    "from sklearn.linear_model import LinearRegression\n",
    "regressor = LinearRegression()\n",
    "regressor.fit(X, y)\n",
    "\n"
   ]
  },
  {
   "cell_type": "code",
   "execution_count": 39,
   "metadata": {},
   "outputs": [],
   "source": [
    "\n",
    "# Predicting the Test set results\n",
    "y_pred = regressor.predict(X)"
   ]
  },
  {
   "cell_type": "code",
   "execution_count": 40,
   "metadata": {},
   "outputs": [
    {
     "data": {
      "image/png": "[encoded data removed]",
      "text/plain": [
       "<Figure size 432x288 with 1 Axes>"
      ]
     },
     "metadata": {},
     "output_type": "display_data"
    }
   ],
   "source": [
    "\n",
    "# Train Part\n",
    "plt.scatter(X, y)\n",
    "plt.plot(X, y_pred, \"r-\")\n",
    "plt.title('Housing Price ')\n",
    "plt.xlabel('Area')\n",
    "plt.ylabel('Price')\n",
    "plt.show()\n"
   ]
  },
  {
   "cell_type": "markdown",
   "metadata": {},
   "source": [
    "\n",
    "# ## Plotting the Best Fitting Line\n",
    "\n",
    "# In[12]:\n",
    "\n",
    "\n",
    "\n",
    "# ## Prediction made Easy\n",
    "# ***\n",
    "# \n",
    "#  - Visually, now we now have a nice approximation of how Area affects the Price \n",
    "#  - We can also make a prediction, the easy way of course! \n",
    "#  - For example: If we want to buy a house of 14,000 sq. ft, we can simply draw a vertical line from 14,000 up to our Approximated Trend line and continue that line towards the y-axis\n",
    "#  - We can see that for a house whose area ~ 14,000 we need to pay ~ 2,00,000-2,25,000\n",
    "\n",
    "# ## Gradient Descent Algorithm & Implementation in Python\n",
    "# ***\n",
    "# To get the optimal value of  θ , perform following algorithm known as the **Batch Gradient Descent Algorithm**\n",
    "# \n",
    "# ![GD5.png](attachment:GD5.png)\n",
    "# \n",
    "\n",
    "# ### Getting Started:\n",
    "# ***\n",
    "# \n",
    "# We have seen how Gradient Descent helps us to minimize the cost function. In this exercise we will learn to write functions to implement our own batch gradient descent algorithm for univariate linear regression! \n",
    "# \n",
    "# <div class=\"alert alert-block alert-success\">You may want to revise and refer to the Steps of the algorithm from the slides to get a strong intuition on what your functions should look like\n",
    "# </div>\n",
    "# \n",
    "# <div class=\"alert alert-block alert-danger\">You should not use any sklearn objects for the purpose of this exercise </div>\n",
    "\n",
    "# <img src=\"../images/icon/Technical-Stuff.png\" alt=\"Technical_Stuff\" style=\"width: 100px;float:left; margin-right:15px\"/>\n",
    "# <br />\n",
    "# ## Python Implementation of Gradient Descent Algorithm\n",
    "# ***\n",
    "# \n",
    "# Let's start with calculating the error of a given linear regression model.\n",
    "# We will consider univariate model so that\n",
    "# $$y = theta * x + b$$\n",
    "# \n",
    "# Let's write a function `error_calculator()` so that given `b`, `theta` and X and y, we can calculate the error.\n",
    "# \n",
    "# The fucntion would look something like this:\n"
   ]
  },
  {
   "cell_type": "code",
   "execution_count": 4,
   "metadata": {},
   "outputs": [],
   "source": [
    "\n",
    "import numpy as np\n",
    "\n",
    "def error_calculator(b, theta, points):\n",
    "    data = np.array(points)\n",
    "    x = data[:,0]\n",
    "    y = data[:,-1]\n",
    "    y_predicted = theta * x + b\n",
    "    error = np.sum((y - y_predicted)**2) / data.shape[0]\n",
    "    return  error\n"
   ]
  },
  {
   "cell_type": "markdown",
   "metadata": {},
   "source": [
    "# <img src=\"../images/icon/Technical-Stuff.png\" alt=\"Technical_Stuff\" style=\"width: 100px;float:left; margin-right:15px\"/>\n",
    "# <br/>\n",
    "# Now that we have calculated the mean square error, we can calculate the gradient.\n",
    "# \n",
    "# We can write a function, that, given current parameters, calculates the gradeint.\n",
    "# \n",
    "# Such a function would look like this:\n"
   ]
  },
  {
   "cell_type": "code",
   "execution_count": 5,
   "metadata": {},
   "outputs": [],
   "source": [
    "\n",
    "def gradient(b_current, theta_current, points, learningRate):\n",
    "    data = np.array(points)\n",
    "    x = data[:, 0]\n",
    "    y = data[:, 1]\n",
    "    N = data.shape[0]\n",
    "    b_gradient = -2 * np.sum(y - (theta_current * x + b_current)) / N\n",
    "    theta_gradient = -2 * np.sum(x * (y - (theta_current * x + b_current))) / N\n",
    "    new_b = b_current - (learningRate * b_gradient)\n",
    "    new_theta = theta_current - (learningRate * theta_gradient)\n",
    "    return new_b, new_theta\n"
   ]
  },
  {
   "cell_type": "markdown",
   "metadata": {},
   "source": [
    "\n",
    "# <img src=\"../images/icon/Technical-Stuff.png\" alt=\"Technical_Stuff\" style=\"width: 100px;float:left; margin-right:15px\"/>\n",
    "# <br/>\n",
    "# Now that we have calculated the gradient, we need to find num_iterations\n",
    "# \n",
    "# We can write a function, that, given current parameters, calculates the num_iteration and returns the list of calculated errors.\n",
    "# \n",
    "# Such a function would look like this:\n"
   ]
  },
  {
   "cell_type": "code",
   "execution_count": 6,
   "metadata": {},
   "outputs": [],
   "source": [
    "def gradient_descent(starting_b, starting_theta, points, learning_rate, num_iterations):\n",
    "    b = starting_b\n",
    "    theta = starting_theta\n",
    "    b_list = []\n",
    "    theta_list = []\n",
    "    error_list = []\n",
    "    for i in range(num_iterations):\n",
    "        b, theta = gradient(b, theta, points, learning_rate)\n",
    "        error = error_calculator(b, theta, points)\n",
    "        b_list.append(b)\n",
    "        theta_list.append(theta)\n",
    "        error_list.append(error)\n",
    "    return b_list, theta_list, error_list\n"
   ]
  },
  {
   "cell_type": "code",
   "execution_count": 7,
   "metadata": {},
   "outputs": [],
   "source": [
    "\n",
    "points = np.genfromtxt(r\"C:\\Users\\KARM\\Desktop\\python\\Data Set\\house_prices_multivariate.csv\", delimiter=\",\")\n",
    "learning_rate = 0.0001\n",
    "initial_b = 2 # initial y-intercept guess\n",
    "initial_m = 6 # initial slope guess\n",
    "num_iterations = 15"
   ]
  },
  {
   "cell_type": "code",
   "execution_count": 12,
   "metadata": {},
   "outputs": [],
   "source": [
    "error_before = error_calculator(initial_b, initial_m, points)\n",
    "b, theta, error = gradient_descent(initial_b, initial_m, points, learning_rate, num_iterations)\n",
    "error_after = error_calculator(b[-1], theta[-1], points)\n"
   ]
  },
  {
   "cell_type": "code",
   "execution_count": 13,
   "metadata": {
    "scrolled": true
   },
   "outputs": [
    {
     "name": "stdout",
     "output_type": "stream",
     "text": [
      "nan [nan, nan, nan, nan, nan, nan, nan, nan, nan, nan, nan, nan, nan, nan, nan] [nan, nan, nan, nan, nan, nan, nan, nan, nan, nan, nan, nan, nan, nan, nan] [nan, nan, nan, nan, nan, nan, nan, nan, nan, nan, nan, nan, nan, nan, nan] nan\n"
     ]
    }
   ],
   "source": [
    "print(error_before,b, theta, error,error_after)\n"
   ]
  },
  {
   "cell_type": "code",
   "execution_count": 14,
   "metadata": {},
   "outputs": [],
   "source": [
    "error_before = error_calculator(initial_b, initial_m, points)\n",
    "b, theta, error = gradient_descent(initial_b, initial_m, points, learning_rate, num_iterations)\n",
    "error_after = error_calculator(b[-1], theta[-1], points)\n",
    "\n"
   ]
  },
  {
   "cell_type": "code",
   "execution_count": 15,
   "metadata": {},
   "outputs": [
    {
     "name": "stdout",
     "output_type": "stream",
     "text": [
      "Starting gradient descent at b = 2, m = 6, error = nan\n",
      "After 15 iterations b = nan, m = nan, error = nan\n"
     ]
    }
   ],
   "source": [
    "\n",
    "print (\"Starting gradient descent at b = {0}, m = {1}, error = {2}\".format(initial_b, initial_m, error_before))\n",
    "print (\"After {0} iterations b = {1}, m = {2}, error = {3}\".format(num_iterations, b[-1], theta[-1], error_after))\n"
   ]
  },
  {
   "cell_type": "markdown",
   "metadata": {},
   "source": [
    "\n",
    "# <img src=\"../images/icon/Technical-Stuff.png\" alt=\"Technical_Stuff\" style=\"width: 100px;float:left; margin-right:15px\"/>\n",
    "# <br/>\n",
    "# \n",
    "# Next we need to plot '$\\theta$'. So we write a function, that, given current parameters, plots the value to theta against iteration number.\n",
    "# \n",
    "# This function would look something like this.\n"
   ]
  },
  {
   "cell_type": "code",
   "execution_count": 18,
   "metadata": {},
   "outputs": [
    {
     "data": {
      "image/png": "[encoded data removed]",
      "text/plain": [
       "<Figure size 432x288 with 1 Axes>"
      ]
     },
     "metadata": {},
     "output_type": "display_data"
    }
   ],
   "source": [
    "\n",
    "import matplotlib.pyplot as plt\n",
    "get_ipython().run_line_magic('matplotlib', 'inline')\n",
    "plt.plot(theta)\n",
    "plt.xlabel(\"Iterations\")\n",
    "plt.ylabel(\"theta\")\n",
    "plt.title(\"Theta\")\n",
    "plt.show()\n",
    "\n"
   ]
  },
  {
   "cell_type": "code",
   "execution_count": null,
   "metadata": {},
   "outputs": [],
   "source": []
  },
  {
   "cell_type": "markdown",
   "metadata": {},
   "source": [
    "# <img src=\"../images/icon/Technical-Stuff.png\" alt=\"Technical_Stuff\" style=\"width: 100px;float:left; margin-right:15px\"/>\n",
    "# <br/>\n",
    "# Next we need to plot 'b'. So we write a function, that, given current parameters, plots the value to 'b' against iteration number.\n",
    "# \n",
    "# This function would look like this"
   ]
  },
  {
   "cell_type": "code",
   "execution_count": 19,
   "metadata": {},
   "outputs": [
    {
     "data": {
      "image/png": "[encoded data removed]",
      "text/plain": [
       "<Figure size 432x288 with 1 Axes>"
      ]
     },
     "metadata": {},
     "output_type": "display_data"
    }
   ],
   "source": [
    "plt.plot(b)\n",
    "plt.xlabel(\"Iterations\")\n",
    "plt.ylabel(\"constant term\")\n",
    "plt.title(\"b\");\n"
   ]
  },
  {
   "cell_type": "markdown",
   "metadata": {},
   "source": [
    "\n",
    "# <img src=\"../images/icon/Technical-Stuff.png\" alt=\"Technical_Stuff\" style=\"width: 100px;float:left; margin-right:15px\"/>\n",
    "# <br/>\n",
    "# Next we need to plot 'errors'. So we write a function, that, given current parameters, plots the value to 'errors' against iteration number.\n",
    "# \n",
    "# This function would look like this.\n"
   ]
  },
  {
   "cell_type": "code",
   "execution_count": 20,
   "metadata": {},
   "outputs": [
    {
     "data": {
      "image/png": "[encoded data removed]",
      "text/plain": [
       "<Figure size 432x288 with 1 Axes>"
      ]
     },
     "metadata": {},
     "output_type": "display_data"
    }
   ],
   "source": [
    "\n",
    "plt.plot(error)\n",
    "plt.xlabel(\"Iterations\")\n",
    "plt.ylabel(\"Error\")\n",
    "plt.title(\"Error\");\n"
   ]
  },
  {
   "cell_type": "markdown",
   "metadata": {},
   "source": [
    "# <img src=\"../images/icon/Concept-Alert.png\" alt=\"Concept-Alert\" style=\"width: 100px;float:left; margin-right:15px\"/>\n",
    "# <br/>\n",
    "# ## Multivariate Linear Regression\n",
    "# ***\n",
    "# - In Univariate Linear Regression we used only two variable. One as Dependent Variable and Other as Independent variable.\n",
    "# - Now, we will use Multiple Dependent variable instead of one and will predict the Price i.e. Independent variable.\n",
    "# - So, along with Area we will consider other variables as such as Pool\n"
   ]
  },
  {
   "cell_type": "code",
   "execution_count": 22,
   "metadata": {},
   "outputs": [],
   "source": [
    "import pandas as pd\n",
    "NY_Housing = pd.read_csv(r\"C:\\Users\\KARM\\Desktop\\python\\Data Set\\house_prices_multivariate.csv\")\n"
   ]
  },
  {
   "cell_type": "code",
   "execution_count": 23,
   "metadata": {},
   "outputs": [],
   "source": [
    "\n",
    "# making Independent and Dependent variables from the dataset\n",
    "X = NY_Housing.iloc[:,:-1]\n",
    "y = NY_Housing.SalePrice"
   ]
  },
  {
   "cell_type": "code",
   "execution_count": 24,
   "metadata": {},
   "outputs": [
    {
     "data": {
      "text/plain": [
       "LinearRegression(copy_X=True, fit_intercept=True, n_jobs=1, normalize=False)"
      ]
     },
     "execution_count": 24,
     "metadata": {},
     "output_type": "execute_result"
    }
   ],
   "source": [
    "\n",
    "# Fitting Multiple Linear Regression\n",
    "from sklearn.linear_model import LinearRegression\n",
    "regressor = LinearRegression()\n",
    "regressor.fit(X, y)"
   ]
  },
  {
   "cell_type": "code",
   "execution_count": 25,
   "metadata": {},
   "outputs": [
    {
     "data": {
      "text/plain": [
       "Index(['LotFrontage', 'LotArea', 'OverallQual', 'OverallCond', 'YearBuilt',\n",
       "       'YearRemodAdd', 'MasVnrArea', 'BsmtFinSF1', 'BsmtFinSF2', 'BsmtUnfSF',\n",
       "       'TotalBsmtSF', '1stFlrSF', '2ndFlrSF', 'LowQualFinSF', 'GrLivArea',\n",
       "       'BsmtFullBath', 'BsmtHalfBath', 'FullBath', 'HalfBath', 'BedroomAbvGr',\n",
       "       'KitchenAbvGr', 'TotRmsAbvGrd', 'Fireplaces', 'GarageYrBlt',\n",
       "       'GarageCars', 'GarageArea', 'WoodDeckSF', 'OpenPorchSF',\n",
       "       'EnclosedPorch', '3SsnPorch', 'ScreenPorch', 'PoolArea', 'MiscVal',\n",
       "       'YrSold', 'SalePrice'],\n",
       "      dtype='object')"
      ]
     },
     "execution_count": 25,
     "metadata": {},
     "output_type": "execute_result"
    }
   ],
   "source": [
    "NY_Housing.columns\n"
   ]
  },
  {
   "cell_type": "code",
   "execution_count": 26,
   "metadata": {},
   "outputs": [
    {
     "name": "stdout",
     "output_type": "stream",
     "text": [
      "intercept: 310649.2600889208\n",
      "coefficients of predictors: [ 4.21581098e+01  4.41367617e-01  1.77089455e+04  5.84597164e+03\n",
      "  3.59658315e+02  1.19385237e+02  2.59435150e+01  9.76748897e+00\n",
      "  7.65860420e-01 -6.61329855e-01  9.87201953e+00  1.96567898e+01\n",
      "  1.31846867e+01 -4.66155080e+00  2.81799257e+01  6.78157998e+03\n",
      "  3.36169287e+02  1.40344800e+03 -2.93573021e+03 -8.64074712e+03\n",
      " -3.35073713e+04  6.10172168e+03  3.20869122e+03 -8.23684306e+01\n",
      "  1.56189970e+04  9.59392447e+00  2.51559075e+01  5.60981357e-01\n",
      "  1.07712460e+01  2.51081902e+01  5.36124522e+01 -4.13099007e+01\n",
      " -8.16461371e-02 -5.83097021e+02]\n"
     ]
    }
   ],
   "source": [
    "print(\"intercept:\", regressor.intercept_)\n",
    "print(\"coefficients of predictors:\", regressor.coef_)\n",
    "\n"
   ]
  },
  {
   "cell_type": "markdown",
   "metadata": {},
   "source": [
    "# ## Predicting the price\n",
    "# ***\n",
    "# Now let's say I want to predict the price of a house with following specifications.\n"
   ]
  },
  {
   "cell_type": "code",
   "execution_count": 36,
   "metadata": {},
   "outputs": [
    {
     "data": {
      "text/plain": [
       "228000"
      ]
     },
     "execution_count": 36,
     "metadata": {},
     "output_type": "execute_result"
    }
   ],
   "source": [
    "my_house = y[155]\n",
    "my_house\n"
   ]
  },
  {
   "cell_type": "code",
   "execution_count": 41,
   "metadata": {},
   "outputs": [
    {
     "ename": "ValueError",
     "evalue": "shapes (1,1) and (34,) not aligned: 1 (dim 1) != 34 (dim 0)",
     "output_type": "error",
     "traceback": [
      "\u001b[1;31m---------------------------------------------------------------------------\u001b[0m",
      "\u001b[1;31mValueError\u001b[0m                                Traceback (most recent call last)",
      "\u001b[1;32m<ipython-input-41-46b598761290>\u001b[0m in \u001b[0;36m<module>\u001b[1;34m()\u001b[0m\n\u001b[1;32m----> 1\u001b[1;33m \u001b[0mpred_my_house\u001b[0m \u001b[1;33m=\u001b[0m \u001b[0mregressor\u001b[0m\u001b[1;33m.\u001b[0m\u001b[0mpredict\u001b[0m\u001b[1;33m(\u001b[0m\u001b[0mmy_house\u001b[0m\u001b[1;33m.\u001b[0m\u001b[0mreshape\u001b[0m\u001b[1;33m(\u001b[0m\u001b[1;36m1\u001b[0m\u001b[1;33m,\u001b[0m \u001b[1;33m-\u001b[0m\u001b[1;36m1\u001b[0m\u001b[1;33m)\u001b[0m\u001b[1;33m)\u001b[0m\u001b[1;33m\u001b[0m\u001b[0m\n\u001b[0m\u001b[0;32m      2\u001b[0m \u001b[0mprint\u001b[0m\u001b[1;33m(\u001b[0m\u001b[1;34m\"predicted value:\"\u001b[0m\u001b[1;33m,\u001b[0m \u001b[0mpred_my_house\u001b[0m\u001b[1;33m[\u001b[0m\u001b[1;36m0\u001b[0m\u001b[1;33m]\u001b[0m\u001b[1;33m)\u001b[0m\u001b[1;33m\u001b[0m\u001b[0m\n",
      "\u001b[1;32mD:\\Users\\KARM\\AppData\\Local\\Continuum\\anaconda3\\lib\\site-packages\\sklearn\\linear_model\\base.py\u001b[0m in \u001b[0;36mpredict\u001b[1;34m(self, X)\u001b[0m\n\u001b[0;32m    254\u001b[0m             \u001b[0mReturns\u001b[0m \u001b[0mpredicted\u001b[0m \u001b[0mvalues\u001b[0m\u001b[1;33m.\u001b[0m\u001b[1;33m\u001b[0m\u001b[0m\n\u001b[0;32m    255\u001b[0m         \"\"\"\n\u001b[1;32m--> 256\u001b[1;33m         \u001b[1;32mreturn\u001b[0m \u001b[0mself\u001b[0m\u001b[1;33m.\u001b[0m\u001b[0m_decision_function\u001b[0m\u001b[1;33m(\u001b[0m\u001b[0mX\u001b[0m\u001b[1;33m)\u001b[0m\u001b[1;33m\u001b[0m\u001b[0m\n\u001b[0m\u001b[0;32m    257\u001b[0m \u001b[1;33m\u001b[0m\u001b[0m\n\u001b[0;32m    258\u001b[0m     \u001b[0m_preprocess_data\u001b[0m \u001b[1;33m=\u001b[0m \u001b[0mstaticmethod\u001b[0m\u001b[1;33m(\u001b[0m\u001b[0m_preprocess_data\u001b[0m\u001b[1;33m)\u001b[0m\u001b[1;33m\u001b[0m\u001b[0m\n",
      "\u001b[1;32mD:\\Users\\KARM\\AppData\\Local\\Continuum\\anaconda3\\lib\\site-packages\\sklearn\\linear_model\\base.py\u001b[0m in \u001b[0;36m_decision_function\u001b[1;34m(self, X)\u001b[0m\n\u001b[0;32m    239\u001b[0m         \u001b[0mX\u001b[0m \u001b[1;33m=\u001b[0m \u001b[0mcheck_array\u001b[0m\u001b[1;33m(\u001b[0m\u001b[0mX\u001b[0m\u001b[1;33m,\u001b[0m \u001b[0maccept_sparse\u001b[0m\u001b[1;33m=\u001b[0m\u001b[1;33m[\u001b[0m\u001b[1;34m'csr'\u001b[0m\u001b[1;33m,\u001b[0m \u001b[1;34m'csc'\u001b[0m\u001b[1;33m,\u001b[0m \u001b[1;34m'coo'\u001b[0m\u001b[1;33m]\u001b[0m\u001b[1;33m)\u001b[0m\u001b[1;33m\u001b[0m\u001b[0m\n\u001b[0;32m    240\u001b[0m         return safe_sparse_dot(X, self.coef_.T,\n\u001b[1;32m--> 241\u001b[1;33m                                dense_output=True) + self.intercept_\n\u001b[0m\u001b[0;32m    242\u001b[0m \u001b[1;33m\u001b[0m\u001b[0m\n\u001b[0;32m    243\u001b[0m     \u001b[1;32mdef\u001b[0m \u001b[0mpredict\u001b[0m\u001b[1;33m(\u001b[0m\u001b[0mself\u001b[0m\u001b[1;33m,\u001b[0m \u001b[0mX\u001b[0m\u001b[1;33m)\u001b[0m\u001b[1;33m:\u001b[0m\u001b[1;33m\u001b[0m\u001b[0m\n",
      "\u001b[1;32mD:\\Users\\KARM\\AppData\\Local\\Continuum\\anaconda3\\lib\\site-packages\\sklearn\\utils\\extmath.py\u001b[0m in \u001b[0;36msafe_sparse_dot\u001b[1;34m(a, b, dense_output)\u001b[0m\n\u001b[0;32m    138\u001b[0m         \u001b[1;32mreturn\u001b[0m \u001b[0mret\u001b[0m\u001b[1;33m\u001b[0m\u001b[0m\n\u001b[0;32m    139\u001b[0m     \u001b[1;32melse\u001b[0m\u001b[1;33m:\u001b[0m\u001b[1;33m\u001b[0m\u001b[0m\n\u001b[1;32m--> 140\u001b[1;33m         \u001b[1;32mreturn\u001b[0m \u001b[0mnp\u001b[0m\u001b[1;33m.\u001b[0m\u001b[0mdot\u001b[0m\u001b[1;33m(\u001b[0m\u001b[0ma\u001b[0m\u001b[1;33m,\u001b[0m \u001b[0mb\u001b[0m\u001b[1;33m)\u001b[0m\u001b[1;33m\u001b[0m\u001b[0m\n\u001b[0m\u001b[0;32m    141\u001b[0m \u001b[1;33m\u001b[0m\u001b[0m\n\u001b[0;32m    142\u001b[0m \u001b[1;33m\u001b[0m\u001b[0m\n",
      "\u001b[1;31mValueError\u001b[0m: shapes (1,1) and (34,) not aligned: 1 (dim 1) != 34 (dim 0)"
     ]
    }
   ],
   "source": [
    "pred_my_house = regressor.predict(my_house.reshape(1, -1))\n",
    "print(\"predicted value:\", pred_my_house[0])\n",
    "\n"
   ]
  },
  {
   "cell_type": "code",
   "execution_count": 35,
   "metadata": {},
   "outputs": [
    {
     "name": "stdout",
     "output_type": "stream",
     "text": [
      "actual value: 228000\n"
     ]
    }
   ],
   "source": [
    "\n",
    "print(\"actual value:\", y[155])\n"
   ]
  },
  {
   "cell_type": "markdown",
   "metadata": {},
   "source": [
    "\n",
    "# As you can see the predicted value is not very far away from the actual value.\n",
    "# \n",
    "# Now let's try to predict the price for all the houses in the dataset.\n"
   ]
  },
  {
   "cell_type": "code",
   "execution_count": 43,
   "metadata": {},
   "outputs": [
    {
     "data": {
      "text/plain": [
       "array([223165.24462329, 193708.14702761, 216394.79759077, 197356.62505514,\n",
       "       295125.75398645, 172516.96207705, 269477.13355182, 245198.81455232,\n",
       "       168787.92247659,  87185.78920276])"
      ]
     },
     "execution_count": 43,
     "metadata": {},
     "output_type": "execute_result"
    }
   ],
   "source": [
    "# Predicting the results\n",
    "y_pred = regressor.predict(X)\n",
    "y_pred[:10]\n"
   ]
  },
  {
   "cell_type": "markdown",
   "metadata": {},
   "source": [
    "\n",
    "# <div class=\"alert alert-block alert-success\">Great! now, let's put the predicted values next to the actual values and see how good a job have we done!</div>\n"
   ]
  },
  {
   "cell_type": "code",
   "execution_count": 44,
   "metadata": {},
   "outputs": [
    {
     "data": {
      "text/html": [
       "<div>\n",
       "<style scoped>\n",
       "    .dataframe tbody tr th:only-of-type {\n",
       "        vertical-align: middle;\n",
       "    }\n",
       "\n",
       "    .dataframe tbody tr th {\n",
       "        vertical-align: top;\n",
       "    }\n",
       "\n",
       "    .dataframe thead th {\n",
       "        text-align: right;\n",
       "    }\n",
       "</style>\n",
       "<table border=\"1\" class=\"dataframe\">\n",
       "  <thead>\n",
       "    <tr style=\"text-align: right;\">\n",
       "      <th></th>\n",
       "      <th>actual</th>\n",
       "      <th>predicted</th>\n",
       "    </tr>\n",
       "  </thead>\n",
       "  <tbody>\n",
       "    <tr>\n",
       "      <th>0</th>\n",
       "      <td>208500</td>\n",
       "      <td>223165.244623</td>\n",
       "    </tr>\n",
       "    <tr>\n",
       "      <th>1</th>\n",
       "      <td>181500</td>\n",
       "      <td>193708.147028</td>\n",
       "    </tr>\n",
       "    <tr>\n",
       "      <th>2</th>\n",
       "      <td>223500</td>\n",
       "      <td>216394.797591</td>\n",
       "    </tr>\n",
       "    <tr>\n",
       "      <th>3</th>\n",
       "      <td>140000</td>\n",
       "      <td>197356.625055</td>\n",
       "    </tr>\n",
       "    <tr>\n",
       "      <th>4</th>\n",
       "      <td>250000</td>\n",
       "      <td>295125.753986</td>\n",
       "    </tr>\n",
       "    <tr>\n",
       "      <th>5</th>\n",
       "      <td>143000</td>\n",
       "      <td>172516.962077</td>\n",
       "    </tr>\n",
       "    <tr>\n",
       "      <th>6</th>\n",
       "      <td>307000</td>\n",
       "      <td>269477.133552</td>\n",
       "    </tr>\n",
       "    <tr>\n",
       "      <th>7</th>\n",
       "      <td>200000</td>\n",
       "      <td>245198.814552</td>\n",
       "    </tr>\n",
       "    <tr>\n",
       "      <th>8</th>\n",
       "      <td>129900</td>\n",
       "      <td>168787.922477</td>\n",
       "    </tr>\n",
       "    <tr>\n",
       "      <th>9</th>\n",
       "      <td>118000</td>\n",
       "      <td>87185.789203</td>\n",
       "    </tr>\n",
       "  </tbody>\n",
       "</table>\n",
       "</div>"
      ],
      "text/plain": [
       "   actual      predicted\n",
       "0  208500  223165.244623\n",
       "1  181500  193708.147028\n",
       "2  223500  216394.797591\n",
       "3  140000  197356.625055\n",
       "4  250000  295125.753986\n",
       "5  143000  172516.962077\n",
       "6  307000  269477.133552\n",
       "7  200000  245198.814552\n",
       "8  129900  168787.922477\n",
       "9  118000   87185.789203"
      ]
     },
     "execution_count": 44,
     "metadata": {},
     "output_type": "execute_result"
    }
   ],
   "source": [
    "\n",
    "prices = pd.DataFrame({\"actual\": y,\n",
    "          \"predicted\": y_pred})\n",
    "prices.head(10)"
   ]
  },
  {
   "cell_type": "markdown",
   "metadata": {},
   "source": [
    "\n",
    "\n",
    "# ## Measuring the goodness of fit\n",
    "# ***\n",
    "# Must say we have done a reasonably good job of predicting the house prices.\n",
    "# \n",
    "# However, as the number of predictions increase it would be difficult to manually check the goodness of fit. In such a case, we can use the cost function to check the goodness of fit.\n",
    "# \n",
    "# <div class=\"alert alert-block alert-success\">Let's first start by finding the mean squared error (MSE)</div>\n",
    "# \n"
   ]
  },
  {
   "cell_type": "code",
   "execution_count": 45,
   "metadata": {},
   "outputs": [
    {
     "data": {
      "text/plain": [
       "1219044781.4947443"
      ]
     },
     "execution_count": 45,
     "metadata": {},
     "output_type": "execute_result"
    }
   ],
   "source": [
    "\n",
    "from sklearn.metrics import mean_squared_error\n",
    "mean_squared_error(y_pred, y)\n"
   ]
  },
  {
   "cell_type": "code",
   "execution_count": null,
   "metadata": {},
   "outputs": [],
   "source": []
  },
  {
   "cell_type": "code",
   "execution_count": null,
   "metadata": {},
   "outputs": [],
   "source": []
  },
  {
   "cell_type": "code",
   "execution_count": null,
   "metadata": {},
   "outputs": [],
   "source": []
  },
  {
   "cell_type": "markdown",
   "metadata": {},
   "source": [
    "# <div class=\"alert alert-block alert-warning\">**What do you think about the error value?**</div>\n",
    "# \n",
    "# As you would notice the error value seems very high (in billions!). Why has it happened?\n",
    "# \n",
    "# MSE is a relative measure of goodness of fit. We say that because the measure of goodness of MSE depends on the unit. \n",
    "# As it turns out, Linear regression depends on certain underlying assumptions. Violation of these assumptions result in poor results.\n",
    "# \n",
    "# Hence, it would be a good idea to understand these assumptions.\n",
    "\n",
    "# ## Assumptions in Linear Regression\n",
    "# ***\n",
    "# There are some key assumptions that are made whilst dealing with Linear Regression\n",
    "# \n",
    "# These are pretty intuitive and very essential to understand as they play an important role in finding out some relationships in our dataset too! \n",
    "# \n",
    "# Let's discuss these assumptions, their importance and mainly **how we validate these assumptions**! \n",
    "\n",
    "# ### Assumptions in Linear Regression\n",
    "# ***\n",
    "# 1) **Linear Relationship Assumption: **\n",
    "# \n",
    "# Relationship between response (Dependent Variables) and feature variables (Independent Variables) should be linear.\n",
    "# \n",
    "#  - **Why it is important:**\n",
    "# \n",
    "# <div class=\"alert alert-block alert-info\">Linear regression only captures the linear relationship, as it's trying to fit a linear model to the data.</div>\n",
    "# \n",
    "\n",
    "# \n",
    "#  - **How do we validate it:**\n",
    "# \n",
    "# <div class=\"alert alert-block alert-success\">The linearity assumption can be tested using scatter plots.</div>\n",
    "# \n",
    "\n",
    "# ### Assumptions in Linear Regression\n",
    "# ***\n",
    "# ![slide%2052.png](attachment:slide%2052.png)\n",
    "\n",
    "# ### Assumptions in Linear Regression\n",
    "# ***\n",
    "# 2) **Little or No Multicollinearity Assumption:**\n",
    "# \n",
    "# It is assumed that there is little or no multicollinearity in the data.\n",
    "# \n",
    "#  - **Why it is important:**\n",
    "# \n",
    "# <div class=\"alert alert-block alert-info\">It results in unstable parameter estimates which makes it very difficult to assess the effect of independent variables.</div>\n",
    "\n",
    "# \n",
    "#  - **How to validate it:**\n",
    "# \n",
    "# Multicollinearity occurs when the features (or independent variables) are not independent from each other. <div class=\"alert alert-block alert-success\">Pair plots of features help validate.</div>\n",
    "# \n",
    "# \n",
    "\n",
    "# ### Assumptions in Linear Regression\n",
    "# ***\n",
    "# 3) **Homoscedasticity Assumption: **\n",
    "# \n",
    "# Homoscedasticity describes a situation in which the error term (that is, the “noise” or random disturbance in the relationship between the independent variables and the dependent variable) is the same across all values of the independent variables. \n",
    "# \n",
    "#  - **Why it is important:**\n",
    "# \n",
    "# <div class=\"alert alert-block alert-info\">Generally, non-constant variance arises in presence of outliers or extreme leverage values.</div>\n",
    "\n",
    "# \n",
    "#  - **How to validate:**\n",
    "# \n",
    "# <div class=\"alert alert-block alert-success\">Plot between  dependent variable vs error\n",
    "# .</div>\n",
    "\n",
    "# ### Assumptions in Linear Regression\n",
    "# ***\n",
    "# In an ideal plot the variance around the regression line is the same for all values of the predictor variable.\n",
    "# In this plot we can see that the variance around our regression line is nearly the same and hence it satisfies the condition of homoscedasticity.\n",
    "# ![slide%2055.png](attachment:slide%2055.png)\n",
    "\n",
    "# ### Assumptions in Linear Regression\n",
    "# ***\n",
    "# \n",
    "# 4) **Little or No autocorrelation in residuals:**\n",
    "# \n",
    "# There should be little or no autocorrelation in the data. \n",
    "# \n",
    "# Autocorrelation occurs when the residual errors are not independent from each other.\n",
    "\n",
    "# - **Why it is important:**\n",
    "# \n",
    "# <div class=\"alert alert-block alert-info\">The presence of correlation in error terms drastically reduces model's accuracy. \n",
    "# \n",
    "# This usually occurs in time series models. If the error terms are correlated, the estimated standard errors tend to underestimate the true standard error.</div>\n",
    "# \n",
    "# \n",
    "#  - **How to validate:**\n",
    "# <div class=\"alert alert-block alert-success\">Residual vs time plot. look for the seasonal or correlated pattern in residual values.</div>\n",
    "# \n",
    "\n",
    "# ### Assumptions in Linear Regression\n",
    "# ***\n",
    "# ![slide%2057.png](attachment:slide%2057.png)\n",
    "\n",
    "# ![linear_regression_3.png](attachment:linear_regression_3.png)\n",
    "\n",
    "# ### Assumptions in Linear Regression\n",
    "# ***\n",
    "# \n",
    "# 5) **Normal Distribution of error terms**\n",
    "# \n",
    "#  - **Why it is important:**\n",
    "#  \n",
    "# <div class=\"alert alert-block alert-info\">Due to the Central Limit Theorem, we may assume that there are lots of underlying facts affecting the process and the sum of these individual errors will tend to behave like in a zero mean normal distribution. In practice, it seems to be so.\n",
    "# </div>\n",
    "# \n",
    "#  - **How to validate:**\n",
    "# <div class=\"alert alert-block alert-success\">You can look at QQ plot\n",
    "# </div>\n",
    "\n",
    "# ### Assumptions in Linear Regression\n",
    "# ***\n",
    "# ![slide%2059.png](attachment:slide%2059.png)\n",
    "\n",
    "# ### Evaluation Metrics for Regression (1/3)\n",
    "# ***\n",
    "# - In Regression (and in other Machine Learning techniques) it's essential to know how good our model has performed. \n",
    "\n",
    "# ### Evaluation Metrics for Regression (2/3)\n",
    "# ***\n",
    "# - **Why? Doesn't the computer do it Automatically?** \n",
    "# \n",
    "#     - At first, it's easier to think that the Computer should automatically get the best model once we tell it what to do\n",
    "#     \n",
    "#     - This is not the case! We tell the computer what features/variables to use and what methods to use to fit the data\n",
    "#     \n",
    "#     - As models get more and more complicated (we'll get into this later) - we need to input \"hyper-parameters\" that essentially tell the computers how much of that quantity or what value we should use while **optimizing complicated parameters** and **cost functions**\n",
    "#     \n",
    "\n",
    "# \n",
    "# ### Evaluation Metrics for Regression (3/3)\n",
    "# ***\n",
    "#     - Thus, evaluating our model will help us know how well we're doing with our current selection of Features from the data, hyperparameters, etc. \n",
    "#     \n",
    "# - There are three basic evaluation metrics for regression to check the goodness of fit.\n",
    "# \n",
    "#     - Mean Absolute Error\n",
    "#     - Root Mean square Error\n",
    "#     - R-Square (Residual value)\n",
    "\n",
    "# <img src=\"../images/icon/Maths-Insight.png\" alt=\"Maths-Insight\" style=\"width: 100px;float:left; margin-right:15px\"/>\n",
    "# <br/>\n",
    "# \n",
    "# ### Mean Absolute Error\n",
    "# ***\n",
    "# - The mean absolute error (MAE) is a quantity used to measure how close forecasts or predictions are to the actual vales. The mean absolute error is given by:\n",
    "# $$MAE= \\frac{1} {N}{\\sum_{i=1}^N |y_{i} - \\hat{y}_{i}|}$$\n",
    "#  - We take the Absolute of the difference because our Predicted Values can be greater than or less than (resulting in a negative difference) \n",
    "#  - If we don't take the Mod then the result of all the differences would be a 0. Figuring out why is a good exercise! \n",
    "\n",
    "# <img src=\"../images/icon/Maths-Insight.png\" alt=\"Maths-Insight\" style=\"width: 100px;float:left; margin-right:15px\"/>\n",
    "# <br/>\n",
    "# ### Root Mean Square Error\n",
    "# *** \n",
    "#  - The square root of the mean/average of the square of all of the error.\n",
    "#  - RMSE is very commonly used and makes for an excellent general purpose error metric for numerical predictions.\n",
    "#  - Compared to the similar Mean Absolute Error, RMSE amplifies and severely punishes large errors.\n",
    "#  \n",
    "#  $$RMSE = {\\sqrt {\\frac{1} {N}{\\sum\\limits_{i = 1}^N {(y_{i} - \\hat{y}_{i} } })^{2} } }$$\n",
    "# \n",
    "# \n",
    "\n",
    "#  - **Why are we squaring the Residuals and then taking a root?**\n",
    "#      - Residuals are basically the difference between Actual Values & Predicted Values\n",
    "#      - Residuals can be positive or negative as the predicted value underestimates or overestimates the actual value\n",
    "#      - Thus to just focus on the magnitude of the error we take the square of the difference as it's always positive\n",
    "#      \n",
    "#    \n",
    "#  - **So what is the advantage of RMS when we could just take the absolute difference instead of squaring**\n",
    "#      - This **severely punishes large differences** in prediction. This is the reason why RMSE is powerful as compared to Absolute Error.\n",
    "#      - Evaluating the RMSE and tuning our model to minimize it results in a more robust model\n",
    "\n",
    "# \n",
    "# ### Interpretation of $R^2$\n",
    "# ***\n",
    "# - This is very important to understand, so read the following line multiple times if needed\n",
    "#  - R - Square is a  **measure of the proportion of variability in the response that is explained by the regression model.**\n",
    "#  \n",
    "#  - Earlier, when the Blood Alcohol Content Data is fitted a Linear Model, the R-Square = 0.952\n",
    "#     - This means that 95.2% of the the Variability in the data given to us is explained by our Linear Model, which is good! \n",
    "#     \n",
    "#   - **R - Square values are always in the range of [0,1]**\n",
    "\n",
    "# <img src=\"../images/icon/Maths-Insight.png\" alt=\"Maths-Insight\" style=\"width: 100px;float:left; margin-right:15px\"/>\n",
    "# <br/>\n",
    "# ## $R^2$ Intuition \n",
    "# ***\n",
    "# ### Sum of Squares Decomposition and $R^2$:\n",
    "#  - Before we get into calculating R^2, let's understand, what the different Sum of Squares for our model are: \n",
    "#    - In RMSE, we have already been introduced to Squared Residuals which is also called Error Sum of Squares (SSE) \n",
    "#    $$SSE = {\\sum\\limits_{i = 1}^N {(y_{i} - \\hat{y}_{i} } })^{2} $$\n",
    "\n",
    "# - Additionally, we have the Total Sum of Squares (SST) which is nothing but the Squared difference between the Actual Values (${y}_{i}$) and the Mean of our dataset ($\\bar{y}_{i}$)   \n",
    "#    $$SS(Total) = {\\sum\\limits_{i = 1}^N {(y_{i} - \\bar{y}_{i} } })^{2} $$\n",
    "# \n",
    "#    - And we also have Regression Sum of Squares, which is the squared difference between the Predicted values ($\\hat{y}_{i}$) and the Mean ($\\bar{y}_{i}$)\n",
    "#       $$SS(Regression) = {\\sum\\limits_{i = 1}^N {(\\hat{y}_{i} - \\bar{y}_{i} } })^{2} $$\n",
    "\n",
    "# <img src=\"../images/icon/Maths-Insight.png\" alt=\"Maths-Insight\" style=\"width: 100px;float:left; margin-right:15px\"/>\n",
    "# ## $R^2$ Intuition \n",
    "# ***\n",
    "# Now, intuitively, we can see that: \n",
    "# \n",
    "#      SS(Total) = SS(Regression) + SSE \n",
    "#      \n",
    "# Thus $R^2$ is defined as: \n",
    "# ![r%20square.png](attachment:r%20square.png)\n",
    "# \n",
    "# However, in many cases, R^2 is not really a good metric and we use another metric known as **Adjusted R-Squared**\n",
    "\n",
    "# <img src=\"../images/icon/Recap.png\" alt=\"Recap\" style=\"width: 100px;float:left; margin-right:15px\"/>\n",
    "# <br/>\n",
    "# # In-session Recap Time\n",
    "# ***\n",
    "# * Understand how to make a prediction using predictors and fitting of a line\n",
    "# * Understand the Linear Regression Cost Function\n",
    "# * Understand the Linear Regression using Gradient Descent Algorithm \n",
    "# * Introduction to Linear Regression in sklearn\n",
    "# * Learn about the assumptions in Linear Regression Algorithm\n",
    "# * Evaluation Metric of your regression\n",
    "\n",
    "# # Post Reads\n",
    "# ***\n",
    "# \n",
    "# \n",
    "# \n",
    "# * [Linear Regression in Python](https://medium.com/towards-data-science/simple-and-multiple-linear-regression-in-python-c928425168f9)\n",
    "# * [Linear Regression using Gradient Descent Tutorial](https://machinelearningmastery.com/linear-regression-tutorial-using-gradient-descent-for-machine-learning/)\n",
    "# * [CS229 - Andrew Ng, Stanford University](http://cs229.stanford.edu/notes/cs229-notes1.pdf)\n"
   ]
  }
 ],
 "metadata": {
  "kernelspec": {
   "display_name": "Python 3",
   "language": "python",
   "name": "python3"
  },
  "language_info": {
   "codemirror_mode": {
    "name": "ipython",
    "version": 3
   },
   "file_extension": ".py",
   "mimetype": "text/x-python",
   "name": "python",
   "nbconvert_exporter": "python",
   "pygments_lexer": "ipython3",
   "version": "3.6.5"
  }
 },
 "nbformat": 4,
 "nbformat_minor": 2
}
