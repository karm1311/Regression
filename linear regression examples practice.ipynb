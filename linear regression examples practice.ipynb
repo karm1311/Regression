{
 "cells": [
  {
   "cell_type": "markdown",
   "metadata": {},
   "source": [
    "1. Linear Regression using two dimensional data \n",
    "2. I create two lists  xs and ys.\n"
   ]
  },
  {
   "cell_type": "code",
   "execution_count": 2,
   "metadata": {},
   "outputs": [],
   "source": [
    "xs = [2,3,4,5,6,7,8,9,10,11,12,13,14,15,16,17,18,19,20,21,22,23,24,25]\n",
    "ys = [10,12,20,22,21,25,30,21,32,34,35,30,50,45,55,60,66,64,67,72,74,80,79,84]"
   ]
  },
  {
   "cell_type": "code",
   "execution_count": 6,
   "metadata": {},
   "outputs": [
    {
     "data": {
      "text/plain": [
       "(24, 24)"
      ]
     },
     "execution_count": 6,
     "metadata": {},
     "output_type": "execute_result"
    }
   ],
   "source": [
    "len(xs), len(ys)"
   ]
  },
  {
   "cell_type": "code",
   "execution_count": 21,
   "metadata": {},
   "outputs": [],
   "source": [
    "import numpy as np\n",
    "import matplotlib.pyplot as plt\n"
   ]
  },
  {
   "cell_type": "code",
   "execution_count": 46,
   "metadata": {},
   "outputs": [
    {
     "data": {
      "image/png": "[encoded data removed]",
      "text/plain": [
       "<Figure size 432x288 with 1 Axes>"
      ]
     },
     "metadata": {},
     "output_type": "display_data"
    }
   ],
   "source": [
    "plt.scatter(xs,ys)\n",
    "plt.ylabel('dependent')\n",
    "plt.xlabel('independent')\n",
    "plt.show()"
   ]
  },
  {
   "cell_type": "markdown",
   "metadata": {},
   "source": [
    " A linear regression line has the equation Y = mx+c, where m is the coefficient of independent variable and c is the intercept.\n"
   ]
  },
  {
   "cell_type": "code",
   "execution_count": 23,
   "metadata": {},
   "outputs": [],
   "source": [
    "# 1. The mathematical formula to calculate slope (m) is:\n",
    "# 2. (mean(x) * mean(y) – mean(x*y)) / ( mean (x)^2 – mean( x^2))"
   ]
  },
  {
   "cell_type": "code",
   "execution_count": 24,
   "metadata": {},
   "outputs": [],
   "source": [
    " #The formula to calculate intercept (c) is:\n",
    "# mean(y) – mean(x) * m"
   ]
  },
  {
   "cell_type": "code",
   "execution_count": 25,
   "metadata": {},
   "outputs": [],
   "source": [
    "# Now, let’s write a function for intercept and slope (coefficient):\n"
   ]
  },
  {
   "cell_type": "code",
   "execution_count": 27,
   "metadata": {},
   "outputs": [
    {
     "data": {
      "text/plain": [
       "(3.29, 3.29)"
      ]
     },
     "execution_count": 27,
     "metadata": {},
     "output_type": "execute_result"
    }
   ],
   "source": [
    "def slope_intercept(x_val, y_val):\n",
    "    x = np.array(x_val)\n",
    "    y = np.array(y_val)\n",
    "    m = ((np.mean(x) * np.mean(y)) - np.mean(x*y)) / ((np.mean(x)*np.mean(x)) - np.mean(x * x))\n",
    "    m = round(m, 2)\n",
    "    c = np.mean(y) - (np.mean(x)*m)\n",
    "    c = round(m, 2)\n",
    "    return(m, c)\n",
    "\n",
    "slope_intercept(xs, ys)\n",
    "         "
   ]
  },
  {
   "cell_type": "code",
   "execution_count": 36,
   "metadata": {},
   "outputs": [],
   "source": [
    "#m,c = slope_intercept(xs, ys)"
   ]
  },
  {
   "cell_type": "code",
   "execution_count": 43,
   "metadata": {},
   "outputs": [],
   "source": [
    "#reg_line is the equation of the regression line:\n",
    "\n",
    "reg_line = [((m*x) + c) for x in xs]"
   ]
  },
  {
   "cell_type": "code",
   "execution_count": 48,
   "metadata": {},
   "outputs": [
    {
     "data": {
      "image/png": "[encoded data removed]",
      "text/plain": [
       "<Figure size 432x288 with 1 Axes>"
      ]
     },
     "metadata": {},
     "output_type": "display_data"
    }
   ],
   "source": [
    "plt.scatter(xs, ys)\n",
    "plt.plot(xs, reg_line)\n",
    "plt.ylabel('dependent')\n",
    "plt.xlabel('independent')\n",
    "plt.title('regression line')\n",
    "plt.show()"
   ]
  },
  {
   "cell_type": "code",
   "execution_count": null,
   "metadata": {},
   "outputs": [],
   "source": []
  },
  {
   "cell_type": "markdown",
   "metadata": {},
   "source": [
    " 1. Root Mean Squared Error(RMSE)\n",
    " 2. RMSE is the standard deviation of the residuals (prediction errors). \n",
    " 3. Residuals are a measure of how far from the regression line data points are, and \n",
    " 4. RMSE is a measure of how spread out these residuals are.\n"
   ]
  },
  {
   "cell_type": "markdown",
   "metadata": {},
   "source": [
    "1. If Yi is the actual data point and \n",
    "2. (Y hat of i) is the predicted value by the equation of line then \n",
    "3. RMSE is the square root of (Yi – Y hat of i)**2\n"
   ]
  },
  {
   "cell_type": "markdown",
   "metadata": {},
   "source": [
    "# Let’s define a function for RMSE:\n"
   ]
  },
  {
   "cell_type": "code",
   "execution_count": 63,
   "metadata": {},
   "outputs": [
    {
     "data": {
      "text/plain": [
       "5.0990195135927845"
      ]
     },
     "execution_count": 63,
     "metadata": {},
     "output_type": "execute_result"
    }
   ],
   "source": [
    "from math import sqrt\n",
    "def rmse(y1, y_hat):\n",
    "    y_actual  = np.array(y1)\n",
    "    y_pred    = np.array(y_hat)\n",
    "    error     = (y_actual - y_pred)**2\n",
    "    error_mean= round(np.mean(error))\n",
    "    error_sqr = sqrt(error_mean)\n",
    "    return error_sqr\n",
    "rmse(ys, reg_line)"
   ]
  },
  {
   "cell_type": "markdown",
   "metadata": {},
   "source": [
    "# make a function for estimated coefficient"
   ]
  },
  {
   "cell_type": "markdown",
   "metadata": {},
   "source": [
    "#### In regression with multiple independent variables, the coefficient tells you how much the dependent variable is expected to increase when that independent variable increases by one, holding all the other independent variables constant"
   ]
  },
  {
   "cell_type": "code",
   "execution_count": 64,
   "metadata": {},
   "outputs": [
    {
     "name": "stdout",
     "output_type": "stream",
     "text": [
      "Estimated coefficients:\n",
      "b_0 = -0.05862068965517242nb_1 = 1.457471264367816\n"
     ]
    },
    {
     "data": {
      "image/png": "[encoded data removed]",
      "text/plain": [
       "<Figure size 432x288 with 1 Axes>"
      ]
     },
     "metadata": {},
     "output_type": "display_data"
    }
   ],
   "source": [
    "def estimate_coef(x, y):\n",
    "    # number of observations \n",
    "    \n",
    "    n = np.size(x)\n",
    "    \n",
    "    # mean of x and y vector    \n",
    "    m_x, m_y = np.mean(x), np.mean(y)\n",
    "    \n",
    "    # calculating cross deviation and deviation    \n",
    "    SS_xy = np.sum(x*y - n*m_y*m_x)\n",
    "    SS_xx = np.sum(x*x - n*m_x*m_x)\n",
    "    \n",
    "    # calculating regression coefficient   \n",
    "    b_1 = SS_xy / SS_xx\n",
    "    b_0 = m_y - b_1*m_x\n",
    "    \n",
    "    return(b_0, b_1)\n",
    "    \n",
    "    \n",
    "def plot_regression(x, y, b):\n",
    "    plt.scatter(x, y, color = 'r', marker = 'o', s = 30)\n",
    "    \n",
    "    # predicted response vector\n",
    "    y_pred = b[0] + b[1]*x\n",
    "    \n",
    "    # plotting regression line\n",
    "    plt.plot(x, y_pred, color = 'g')\n",
    "    plt.xlabel = ('x axis')\n",
    "    plt.ylabel = ('y axis')\n",
    "    plt.show()\n",
    "    \n",
    "def main():\n",
    "    x = np.array([0, 1, 2, 3, 4, 5, 6, 7, 8, 9]) \n",
    "    y = np.array([1, 3, 2, 5, 7, 8, 8, 9, 10, 12])\n",
    "    # estimating coefficients \n",
    "    b = estimate_coef(x, y) \n",
    "    print(\"Estimated coefficients:\\nb_0 = {}nb_1 = {}\".format(b[0], b[1])) \n",
    "      # plotting regression line \n",
    "    plot_regression(x, y, b) \n",
    "    \n",
    "  \n",
    "if __name__ == \"__main__\": \n",
    "    main() \n",
    "\n",
    "    "
   ]
  },
  {
   "cell_type": "code",
   "execution_count": 56,
   "metadata": {},
   "outputs": [],
   "source": []
  },
  {
   "cell_type": "code",
   "execution_count": null,
   "metadata": {},
   "outputs": [],
   "source": []
  },
  {
   "cell_type": "code",
   "execution_count": 2,
   "metadata": {},
   "outputs": [],
   "source": [
    "# Given below is the implementation of multiple linear regression technique\n",
    "# on the Boston house pricing dataset dataset using Scikit-learn.\n"
   ]
  },
  {
   "cell_type": "markdown",
   "metadata": {},
   "source": [
    "# not understand properly"
   ]
  },
  {
   "cell_type": "code",
   "execution_count": null,
   "metadata": {},
   "outputs": [],
   "source": []
  },
  {
   "cell_type": "code",
   "execution_count": 3,
   "metadata": {},
   "outputs": [],
   "source": [
    "\n",
    "import matplotlib.pyplot as plt \n",
    "import numpy as np \n",
    "from sklearn import datasets, linear_model, metrics \n",
    "  "
   ]
  },
  {
   "cell_type": "code",
   "execution_count": 14,
   "metadata": {},
   "outputs": [
    {
     "name": "stdout",
     "output_type": "stream",
     "text": [
      "regression coefficient \n",
      "  [-8.80740828e-02  6.72507352e-02  5.10280463e-02  2.18879172e+00\n",
      " -1.72283734e+01  3.62985243e+00  2.13933641e-03 -1.36531300e+00\n",
      "  2.88788067e-01 -1.22618657e-02 -8.36014969e-01  9.53058061e-03\n",
      " -5.05036163e-01]\n",
      "variance score 0.7208987846108872 is \n"
     ]
    }
   ],
   "source": [
    "# load boston dataset\n",
    "boston =  datasets.load_boston(return_X_y = False)\n",
    "\n",
    "# defining feature matrix(X) and response vector(y) \n",
    "\n",
    "X  = boston.data\n",
    "y = boston.target\n",
    "\n",
    "# splitting X and y into training and testing sets \n",
    "from sklearn.model_selection import train_test_split\n",
    "X_train, X_test, y_train, y_test = train_test_split(X, y, test_size = 0.4, random_state = 1) \n",
    "\n",
    "#create a linear regression object\n",
    "reg = linear_model.LinearRegression()\n",
    "\n",
    "#train model using train sets\n",
    "reg.fit(X_train, y_train)\n",
    "\n",
    "# regression coefficient\n",
    "print('regression coefficient \\n ', reg.coef_)\n",
    "\n",
    "# variance score :1 means perfect prediction\n",
    "print('variance score {} is '.format(reg.score(X_test, y_test)))"
   ]
  },
  {
   "cell_type": "code",
   "execution_count": 20,
   "metadata": {},
   "outputs": [
    {
     "data": {
      "image/png": "[encoded data removed]",
      "text/plain": [
       "<Figure size 432x288 with 1 Axes>"
      ]
     },
     "metadata": {},
     "output_type": "display_data"
    }
   ],
   "source": [
    "# plot for residual error\n",
    "# setting plot\n",
    "\n",
    "plt.style.use('fivethirtyeight')\n",
    "\n",
    "## plotting residual errors in training data \n",
    "plt.scatter(reg.predict(X_train), reg.predict(X_train) - y_train,color = 'r', s = 10, label = \"Train Data\")\n",
    "plt.scatter(reg.predict(X_test), reg.predict(X_test) - y_test, color = 'b', s = 10, label = \"Test Data\")\n",
    "\n",
    "## plotting line for zero residual error \n",
    "plt.hlines(y = 0, xmin = 0, xmax = 50, linewidth = 2) \n",
    "\n",
    "  \n",
    "## plotting legend \n",
    "plt.legend(loc = 'upper right') \n",
    "  \n",
    "## plot title \n",
    "plt.title(\"Residual errors\") \n",
    "  \n",
    "## function to show plot \n",
    "plt.show() \n",
    "\n",
    "  \n",
    "            \n",
    "            "
   ]
  },
  {
   "cell_type": "code",
   "execution_count": null,
   "metadata": {},
   "outputs": [],
   "source": [
    "\n",
    "\n"
   ]
  },
  {
   "cell_type": "code",
   "execution_count": null,
   "metadata": {},
   "outputs": [],
   "source": []
  },
  {
   "cell_type": "code",
   "execution_count": null,
   "metadata": {},
   "outputs": [],
   "source": []
  },
  {
   "cell_type": "code",
   "execution_count": null,
   "metadata": {},
   "outputs": [],
   "source": []
  },
  {
   "cell_type": "code",
   "execution_count": null,
   "metadata": {},
   "outputs": [],
   "source": []
  },
  {
   "cell_type": "code",
   "execution_count": null,
   "metadata": {},
   "outputs": [],
   "source": [
    "\n"
   ]
  }
 ],
 "metadata": {
  "kernelspec": {
   "display_name": "Python 3",
   "language": "python",
   "name": "python3"
  },
  "language_info": {
   "codemirror_mode": {
    "name": "ipython",
    "version": 3
   },
   "file_extension": ".py",
   "mimetype": "text/x-python",
   "name": "python",
   "nbconvert_exporter": "python",
   "pygments_lexer": "ipython3",
   "version": "3.6.5"
  }
 },
 "nbformat": 4,
 "nbformat_minor": 2
}
